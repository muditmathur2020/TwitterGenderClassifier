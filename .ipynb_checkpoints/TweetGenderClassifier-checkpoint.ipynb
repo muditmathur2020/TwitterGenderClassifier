{
 "cells": [
  {
   "cell_type": "markdown",
   "metadata": {},
   "source": [
    "# Load and Check Data"
   ]
  },
  {
   "cell_type": "code",
   "execution_count": 43,
   "metadata": {},
   "outputs": [],
   "source": [
    "import pandas as pd\n",
    "import numpy as np\n",
    "import matplotlib.pyplot as plt\n",
    "import seaborn as sns\n",
    "%matplotlib inline\n",
    "from sklearn.metrics import classification_report,confusion_matrix\n",
    "from sklearn.metrics import f1_score"
   ]
  },
  {
   "cell_type": "code",
   "execution_count": 44,
   "metadata": {},
   "outputs": [],
   "source": [
    "df=pd.read_csv(\"gender.csv\",encoding='latin-1')"
   ]
  },
  {
   "cell_type": "code",
   "execution_count": 45,
   "metadata": {},
   "outputs": [
    {
     "data": {
      "text/html": [
       "<div>\n",
       "<style scoped>\n",
       "    .dataframe tbody tr th:only-of-type {\n",
       "        vertical-align: middle;\n",
       "    }\n",
       "\n",
       "    .dataframe tbody tr th {\n",
       "        vertical-align: top;\n",
       "    }\n",
       "\n",
       "    .dataframe thead th {\n",
       "        text-align: right;\n",
       "    }\n",
       "</style>\n",
       "<table border=\"1\" class=\"dataframe\">\n",
       "  <thead>\n",
       "    <tr style=\"text-align: right;\">\n",
       "      <th></th>\n",
       "      <th>_unit_id</th>\n",
       "      <th>_golden</th>\n",
       "      <th>_unit_state</th>\n",
       "      <th>_trusted_judgments</th>\n",
       "      <th>_last_judgment_at</th>\n",
       "      <th>gender</th>\n",
       "      <th>gender:confidence</th>\n",
       "      <th>profile_yn</th>\n",
       "      <th>profile_yn:confidence</th>\n",
       "      <th>created</th>\n",
       "      <th>...</th>\n",
       "      <th>profileimage</th>\n",
       "      <th>retweet_count</th>\n",
       "      <th>sidebar_color</th>\n",
       "      <th>text</th>\n",
       "      <th>tweet_coord</th>\n",
       "      <th>tweet_count</th>\n",
       "      <th>tweet_created</th>\n",
       "      <th>tweet_id</th>\n",
       "      <th>tweet_location</th>\n",
       "      <th>user_timezone</th>\n",
       "    </tr>\n",
       "  </thead>\n",
       "  <tbody>\n",
       "    <tr>\n",
       "      <th>0</th>\n",
       "      <td>815719226</td>\n",
       "      <td>False</td>\n",
       "      <td>finalized</td>\n",
       "      <td>3</td>\n",
       "      <td>10/26/15 23:24</td>\n",
       "      <td>male</td>\n",
       "      <td>1.0000</td>\n",
       "      <td>yes</td>\n",
       "      <td>1.0</td>\n",
       "      <td>12/5/13 1:48</td>\n",
       "      <td>...</td>\n",
       "      <td>https://pbs.twimg.com/profile_images/414342229...</td>\n",
       "      <td>0</td>\n",
       "      <td>FFFFFF</td>\n",
       "      <td>Robbie E Responds To Critics After Win Against...</td>\n",
       "      <td>NaN</td>\n",
       "      <td>110964</td>\n",
       "      <td>10/26/15 12:40</td>\n",
       "      <td>6.587300e+17</td>\n",
       "      <td>main; @Kan1shk3</td>\n",
       "      <td>Chennai</td>\n",
       "    </tr>\n",
       "    <tr>\n",
       "      <th>1</th>\n",
       "      <td>815719227</td>\n",
       "      <td>False</td>\n",
       "      <td>finalized</td>\n",
       "      <td>3</td>\n",
       "      <td>10/26/15 23:30</td>\n",
       "      <td>male</td>\n",
       "      <td>1.0000</td>\n",
       "      <td>yes</td>\n",
       "      <td>1.0</td>\n",
       "      <td>10/1/12 13:51</td>\n",
       "      <td>...</td>\n",
       "      <td>https://pbs.twimg.com/profile_images/539604221...</td>\n",
       "      <td>0</td>\n",
       "      <td>C0DEED</td>\n",
       "      <td>ÛÏIt felt like they were my friends and I was...</td>\n",
       "      <td>NaN</td>\n",
       "      <td>7471</td>\n",
       "      <td>10/26/15 12:40</td>\n",
       "      <td>6.587300e+17</td>\n",
       "      <td>NaN</td>\n",
       "      <td>Eastern Time (US &amp; Canada)</td>\n",
       "    </tr>\n",
       "    <tr>\n",
       "      <th>2</th>\n",
       "      <td>815719228</td>\n",
       "      <td>False</td>\n",
       "      <td>finalized</td>\n",
       "      <td>3</td>\n",
       "      <td>10/26/15 23:33</td>\n",
       "      <td>male</td>\n",
       "      <td>0.6625</td>\n",
       "      <td>yes</td>\n",
       "      <td>1.0</td>\n",
       "      <td>11/28/14 11:30</td>\n",
       "      <td>...</td>\n",
       "      <td>https://pbs.twimg.com/profile_images/657330418...</td>\n",
       "      <td>1</td>\n",
       "      <td>C0DEED</td>\n",
       "      <td>i absolutely adore when louis starts the songs...</td>\n",
       "      <td>NaN</td>\n",
       "      <td>5617</td>\n",
       "      <td>10/26/15 12:40</td>\n",
       "      <td>6.587300e+17</td>\n",
       "      <td>clcncl</td>\n",
       "      <td>Belgrade</td>\n",
       "    </tr>\n",
       "    <tr>\n",
       "      <th>3</th>\n",
       "      <td>815719229</td>\n",
       "      <td>False</td>\n",
       "      <td>finalized</td>\n",
       "      <td>3</td>\n",
       "      <td>10/26/15 23:10</td>\n",
       "      <td>male</td>\n",
       "      <td>1.0000</td>\n",
       "      <td>yes</td>\n",
       "      <td>1.0</td>\n",
       "      <td>6/11/09 22:39</td>\n",
       "      <td>...</td>\n",
       "      <td>https://pbs.twimg.com/profile_images/259703936...</td>\n",
       "      <td>0</td>\n",
       "      <td>C0DEED</td>\n",
       "      <td>Hi @JordanSpieth - Looking at the url - do you...</td>\n",
       "      <td>NaN</td>\n",
       "      <td>1693</td>\n",
       "      <td>10/26/15 12:40</td>\n",
       "      <td>6.587300e+17</td>\n",
       "      <td>Palo Alto, CA</td>\n",
       "      <td>Pacific Time (US &amp; Canada)</td>\n",
       "    </tr>\n",
       "    <tr>\n",
       "      <th>4</th>\n",
       "      <td>815719230</td>\n",
       "      <td>False</td>\n",
       "      <td>finalized</td>\n",
       "      <td>3</td>\n",
       "      <td>10/27/15 1:15</td>\n",
       "      <td>female</td>\n",
       "      <td>1.0000</td>\n",
       "      <td>yes</td>\n",
       "      <td>1.0</td>\n",
       "      <td>4/16/14 13:23</td>\n",
       "      <td>...</td>\n",
       "      <td>https://pbs.twimg.com/profile_images/564094871...</td>\n",
       "      <td>0</td>\n",
       "      <td>0</td>\n",
       "      <td>Watching Neighbours on Sky+ catching up with t...</td>\n",
       "      <td>NaN</td>\n",
       "      <td>31462</td>\n",
       "      <td>10/26/15 12:40</td>\n",
       "      <td>6.587300e+17</td>\n",
       "      <td>NaN</td>\n",
       "      <td>NaN</td>\n",
       "    </tr>\n",
       "    <tr>\n",
       "      <th>...</th>\n",
       "      <td>...</td>\n",
       "      <td>...</td>\n",
       "      <td>...</td>\n",
       "      <td>...</td>\n",
       "      <td>...</td>\n",
       "      <td>...</td>\n",
       "      <td>...</td>\n",
       "      <td>...</td>\n",
       "      <td>...</td>\n",
       "      <td>...</td>\n",
       "      <td>...</td>\n",
       "      <td>...</td>\n",
       "      <td>...</td>\n",
       "      <td>...</td>\n",
       "      <td>...</td>\n",
       "      <td>...</td>\n",
       "      <td>...</td>\n",
       "      <td>...</td>\n",
       "      <td>...</td>\n",
       "      <td>...</td>\n",
       "      <td>...</td>\n",
       "    </tr>\n",
       "    <tr>\n",
       "      <th>20045</th>\n",
       "      <td>815757572</td>\n",
       "      <td>True</td>\n",
       "      <td>golden</td>\n",
       "      <td>259</td>\n",
       "      <td>NaN</td>\n",
       "      <td>female</td>\n",
       "      <td>1.0000</td>\n",
       "      <td>yes</td>\n",
       "      <td>1.0</td>\n",
       "      <td>8/5/15 21:16</td>\n",
       "      <td>...</td>\n",
       "      <td>https://pbs.twimg.com/profile_images/656793310...</td>\n",
       "      <td>0</td>\n",
       "      <td>C0DEED</td>\n",
       "      <td>@lookupondeath ...Fine, and I'll drink tea too...</td>\n",
       "      <td>NaN</td>\n",
       "      <td>783</td>\n",
       "      <td>10/26/15 13:20</td>\n",
       "      <td>6.587400e+17</td>\n",
       "      <td>Verona ªÁ</td>\n",
       "      <td>NaN</td>\n",
       "    </tr>\n",
       "    <tr>\n",
       "      <th>20046</th>\n",
       "      <td>815757681</td>\n",
       "      <td>True</td>\n",
       "      <td>golden</td>\n",
       "      <td>248</td>\n",
       "      <td>NaN</td>\n",
       "      <td>male</td>\n",
       "      <td>1.0000</td>\n",
       "      <td>yes</td>\n",
       "      <td>1.0</td>\n",
       "      <td>8/15/12 21:17</td>\n",
       "      <td>...</td>\n",
       "      <td>https://pbs.twimg.com/profile_images/639815429...</td>\n",
       "      <td>0</td>\n",
       "      <td>0</td>\n",
       "      <td>Greg Hardy you a good player and all but don't...</td>\n",
       "      <td>NaN</td>\n",
       "      <td>13523</td>\n",
       "      <td>10/26/15 12:40</td>\n",
       "      <td>6.587300e+17</td>\n",
       "      <td>Kansas City, MO</td>\n",
       "      <td>NaN</td>\n",
       "    </tr>\n",
       "    <tr>\n",
       "      <th>20047</th>\n",
       "      <td>815757830</td>\n",
       "      <td>True</td>\n",
       "      <td>golden</td>\n",
       "      <td>264</td>\n",
       "      <td>NaN</td>\n",
       "      <td>male</td>\n",
       "      <td>1.0000</td>\n",
       "      <td>yes</td>\n",
       "      <td>1.0</td>\n",
       "      <td>9/3/12 1:17</td>\n",
       "      <td>...</td>\n",
       "      <td>https://pbs.twimg.com/profile_images/655473271...</td>\n",
       "      <td>0</td>\n",
       "      <td>C0DEED</td>\n",
       "      <td>You can miss people and still never want to se...</td>\n",
       "      <td>NaN</td>\n",
       "      <td>26419</td>\n",
       "      <td>10/26/15 13:20</td>\n",
       "      <td>6.587400e+17</td>\n",
       "      <td>Lagos Nigeria</td>\n",
       "      <td>NaN</td>\n",
       "    </tr>\n",
       "    <tr>\n",
       "      <th>20048</th>\n",
       "      <td>815757921</td>\n",
       "      <td>True</td>\n",
       "      <td>golden</td>\n",
       "      <td>250</td>\n",
       "      <td>NaN</td>\n",
       "      <td>female</td>\n",
       "      <td>0.8489</td>\n",
       "      <td>yes</td>\n",
       "      <td>1.0</td>\n",
       "      <td>11/6/12 23:46</td>\n",
       "      <td>...</td>\n",
       "      <td>https://pbs.twimg.com/profile_images/657716093...</td>\n",
       "      <td>0</td>\n",
       "      <td>0</td>\n",
       "      <td>@bitemyapp i had noticed your tendency to pee ...</td>\n",
       "      <td>NaN</td>\n",
       "      <td>56073</td>\n",
       "      <td>10/26/15 12:40</td>\n",
       "      <td>6.587300e+17</td>\n",
       "      <td>Texas Hill Country</td>\n",
       "      <td>NaN</td>\n",
       "    </tr>\n",
       "    <tr>\n",
       "      <th>20049</th>\n",
       "      <td>815757985</td>\n",
       "      <td>True</td>\n",
       "      <td>golden</td>\n",
       "      <td>249</td>\n",
       "      <td>NaN</td>\n",
       "      <td>female</td>\n",
       "      <td>1.0000</td>\n",
       "      <td>yes</td>\n",
       "      <td>1.0</td>\n",
       "      <td>4/14/14 17:22</td>\n",
       "      <td>...</td>\n",
       "      <td>https://pbs.twimg.com/profile_images/655134724...</td>\n",
       "      <td>0</td>\n",
       "      <td>C0DEED</td>\n",
       "      <td>I think for my APUSH creative project I'm goin...</td>\n",
       "      <td>NaN</td>\n",
       "      <td>2922</td>\n",
       "      <td>10/26/15 13:19</td>\n",
       "      <td>6.587400e+17</td>\n",
       "      <td>NaN</td>\n",
       "      <td>NaN</td>\n",
       "    </tr>\n",
       "  </tbody>\n",
       "</table>\n",
       "<p>20050 rows × 26 columns</p>\n",
       "</div>"
      ],
      "text/plain": [
       "        _unit_id  _golden _unit_state  _trusted_judgments _last_judgment_at  \\\n",
       "0      815719226    False   finalized                   3    10/26/15 23:24   \n",
       "1      815719227    False   finalized                   3    10/26/15 23:30   \n",
       "2      815719228    False   finalized                   3    10/26/15 23:33   \n",
       "3      815719229    False   finalized                   3    10/26/15 23:10   \n",
       "4      815719230    False   finalized                   3     10/27/15 1:15   \n",
       "...          ...      ...         ...                 ...               ...   \n",
       "20045  815757572     True      golden                 259               NaN   \n",
       "20046  815757681     True      golden                 248               NaN   \n",
       "20047  815757830     True      golden                 264               NaN   \n",
       "20048  815757921     True      golden                 250               NaN   \n",
       "20049  815757985     True      golden                 249               NaN   \n",
       "\n",
       "       gender  gender:confidence profile_yn  profile_yn:confidence  \\\n",
       "0        male             1.0000        yes                    1.0   \n",
       "1        male             1.0000        yes                    1.0   \n",
       "2        male             0.6625        yes                    1.0   \n",
       "3        male             1.0000        yes                    1.0   \n",
       "4      female             1.0000        yes                    1.0   \n",
       "...       ...                ...        ...                    ...   \n",
       "20045  female             1.0000        yes                    1.0   \n",
       "20046    male             1.0000        yes                    1.0   \n",
       "20047    male             1.0000        yes                    1.0   \n",
       "20048  female             0.8489        yes                    1.0   \n",
       "20049  female             1.0000        yes                    1.0   \n",
       "\n",
       "              created  ...                                       profileimage  \\\n",
       "0        12/5/13 1:48  ...  https://pbs.twimg.com/profile_images/414342229...   \n",
       "1       10/1/12 13:51  ...  https://pbs.twimg.com/profile_images/539604221...   \n",
       "2      11/28/14 11:30  ...  https://pbs.twimg.com/profile_images/657330418...   \n",
       "3       6/11/09 22:39  ...  https://pbs.twimg.com/profile_images/259703936...   \n",
       "4       4/16/14 13:23  ...  https://pbs.twimg.com/profile_images/564094871...   \n",
       "...               ...  ...                                                ...   \n",
       "20045    8/5/15 21:16  ...  https://pbs.twimg.com/profile_images/656793310...   \n",
       "20046   8/15/12 21:17  ...  https://pbs.twimg.com/profile_images/639815429...   \n",
       "20047     9/3/12 1:17  ...  https://pbs.twimg.com/profile_images/655473271...   \n",
       "20048   11/6/12 23:46  ...  https://pbs.twimg.com/profile_images/657716093...   \n",
       "20049   4/14/14 17:22  ...  https://pbs.twimg.com/profile_images/655134724...   \n",
       "\n",
       "       retweet_count sidebar_color  \\\n",
       "0                  0        FFFFFF   \n",
       "1                  0        C0DEED   \n",
       "2                  1        C0DEED   \n",
       "3                  0        C0DEED   \n",
       "4                  0             0   \n",
       "...              ...           ...   \n",
       "20045              0        C0DEED   \n",
       "20046              0             0   \n",
       "20047              0        C0DEED   \n",
       "20048              0             0   \n",
       "20049              0        C0DEED   \n",
       "\n",
       "                                                    text tweet_coord  \\\n",
       "0      Robbie E Responds To Critics After Win Against...         NaN   \n",
       "1      ÛÏIt felt like they were my friends and I was...         NaN   \n",
       "2      i absolutely adore when louis starts the songs...         NaN   \n",
       "3      Hi @JordanSpieth - Looking at the url - do you...         NaN   \n",
       "4      Watching Neighbours on Sky+ catching up with t...         NaN   \n",
       "...                                                  ...         ...   \n",
       "20045  @lookupondeath ...Fine, and I'll drink tea too...         NaN   \n",
       "20046  Greg Hardy you a good player and all but don't...         NaN   \n",
       "20047  You can miss people and still never want to se...         NaN   \n",
       "20048  @bitemyapp i had noticed your tendency to pee ...         NaN   \n",
       "20049  I think for my APUSH creative project I'm goin...         NaN   \n",
       "\n",
       "      tweet_count   tweet_created      tweet_id      tweet_location  \\\n",
       "0          110964  10/26/15 12:40  6.587300e+17     main; @Kan1shk3   \n",
       "1            7471  10/26/15 12:40  6.587300e+17                 NaN   \n",
       "2            5617  10/26/15 12:40  6.587300e+17              clcncl   \n",
       "3            1693  10/26/15 12:40  6.587300e+17       Palo Alto, CA   \n",
       "4           31462  10/26/15 12:40  6.587300e+17                 NaN   \n",
       "...           ...             ...           ...                 ...   \n",
       "20045         783  10/26/15 13:20  6.587400e+17          Verona ªÁ   \n",
       "20046       13523  10/26/15 12:40  6.587300e+17     Kansas City, MO   \n",
       "20047       26419  10/26/15 13:20  6.587400e+17      Lagos Nigeria    \n",
       "20048       56073  10/26/15 12:40  6.587300e+17  Texas Hill Country   \n",
       "20049        2922  10/26/15 13:19  6.587400e+17                 NaN   \n",
       "\n",
       "                    user_timezone  \n",
       "0                         Chennai  \n",
       "1      Eastern Time (US & Canada)  \n",
       "2                        Belgrade  \n",
       "3      Pacific Time (US & Canada)  \n",
       "4                             NaN  \n",
       "...                           ...  \n",
       "20045                         NaN  \n",
       "20046                         NaN  \n",
       "20047                         NaN  \n",
       "20048                         NaN  \n",
       "20049                         NaN  \n",
       "\n",
       "[20050 rows x 26 columns]"
      ]
     },
     "execution_count": 45,
     "metadata": {},
     "output_type": "execute_result"
    }
   ],
   "source": [
    "df"
   ]
  },
  {
   "cell_type": "code",
   "execution_count": 46,
   "metadata": {},
   "outputs": [
    {
     "data": {
      "text/plain": [
       "Index(['_unit_id', '_golden', '_unit_state', '_trusted_judgments',\n",
       "       '_last_judgment_at', 'gender', 'gender:confidence', 'profile_yn',\n",
       "       'profile_yn:confidence', 'created', 'description', 'fav_number',\n",
       "       'gender_gold', 'link_color', 'name', 'profile_yn_gold', 'profileimage',\n",
       "       'retweet_count', 'sidebar_color', 'text', 'tweet_coord', 'tweet_count',\n",
       "       'tweet_created', 'tweet_id', 'tweet_location', 'user_timezone'],\n",
       "      dtype='object')"
      ]
     },
     "execution_count": 46,
     "metadata": {},
     "output_type": "execute_result"
    }
   ],
   "source": [
    "df.columns"
   ]
  },
  {
   "cell_type": "code",
   "execution_count": 47,
   "metadata": {},
   "outputs": [
    {
     "data": {
      "text/plain": [
       "0        Robbie E Responds To Critics After Win Against...\n",
       "1        ÛÏIt felt like they were my friends and I was...\n",
       "2        i absolutely adore when louis starts the songs...\n",
       "3        Hi @JordanSpieth - Looking at the url - do you...\n",
       "4        Watching Neighbours on Sky+ catching up with t...\n",
       "                               ...                        \n",
       "20045    @lookupondeath ...Fine, and I'll drink tea too...\n",
       "20046    Greg Hardy you a good player and all but don't...\n",
       "20047    You can miss people and still never want to se...\n",
       "20048    @bitemyapp i had noticed your tendency to pee ...\n",
       "20049    I think for my APUSH creative project I'm goin...\n",
       "Name: text, Length: 20050, dtype: object"
      ]
     },
     "execution_count": 47,
     "metadata": {},
     "output_type": "execute_result"
    }
   ],
   "source": [
    "df['text']"
   ]
  },
  {
   "cell_type": "markdown",
   "metadata": {},
   "source": [
    "# Tweet Count"
   ]
  },
  {
   "cell_type": "code",
   "execution_count": 48,
   "metadata": {},
   "outputs": [
    {
     "data": {
      "text/plain": [
       "male    6194\n",
       "Name: gender, dtype: int64"
      ]
     },
     "execution_count": 48,
     "metadata": {},
     "output_type": "execute_result"
    }
   ],
   "source": [
    "male_data=df[df[\"gender\"]==\"male\"]\n",
    "male_data[\"gender\"].value_counts()"
   ]
  },
  {
   "cell_type": "code",
   "execution_count": 49,
   "metadata": {},
   "outputs": [
    {
     "data": {
      "text/plain": [
       "196947006"
      ]
     },
     "execution_count": 49,
     "metadata": {},
     "output_type": "execute_result"
    }
   ],
   "source": [
    "tweet_count_male=male_data[\"tweet_count\"].sum()\n",
    "tweet_count_male"
   ]
  },
  {
   "cell_type": "code",
   "execution_count": 50,
   "metadata": {},
   "outputs": [
    {
     "data": {
      "text/plain": [
       "female    6700\n",
       "Name: gender, dtype: int64"
      ]
     },
     "execution_count": 50,
     "metadata": {},
     "output_type": "execute_result"
    }
   ],
   "source": [
    "female_data=df[df[\"gender\"]==\"female\"]\n",
    "female_data[\"gender\"].value_counts()"
   ]
  },
  {
   "cell_type": "code",
   "execution_count": 51,
   "metadata": {},
   "outputs": [
    {
     "data": {
      "text/plain": [
       "182821554"
      ]
     },
     "execution_count": 51,
     "metadata": {},
     "output_type": "execute_result"
    }
   ],
   "source": [
    "tweet_count_female=female_data[\"tweet_count\"].sum()\n",
    "tweet_count_female"
   ]
  },
  {
   "cell_type": "code",
   "execution_count": 52,
   "metadata": {},
   "outputs": [],
   "source": [
    "gender=[\"Male\",\"Female\"]\n",
    "gender_tweet_count=[tweet_count_male,tweet_count_female]"
   ]
  },
  {
   "cell_type": "code",
   "execution_count": 53,
   "metadata": {},
   "outputs": [
    {
     "data": {
      "text/html": [
       "<div>\n",
       "<style scoped>\n",
       "    .dataframe tbody tr th:only-of-type {\n",
       "        vertical-align: middle;\n",
       "    }\n",
       "\n",
       "    .dataframe tbody tr th {\n",
       "        vertical-align: top;\n",
       "    }\n",
       "\n",
       "    .dataframe thead th {\n",
       "        text-align: right;\n",
       "    }\n",
       "</style>\n",
       "<table border=\"1\" class=\"dataframe\">\n",
       "  <thead>\n",
       "    <tr style=\"text-align: right;\">\n",
       "      <th></th>\n",
       "      <th>Gender</th>\n",
       "      <th>tweet_count</th>\n",
       "    </tr>\n",
       "  </thead>\n",
       "  <tbody>\n",
       "    <tr>\n",
       "      <th>0</th>\n",
       "      <td>Male</td>\n",
       "      <td>196947006</td>\n",
       "    </tr>\n",
       "    <tr>\n",
       "      <th>1</th>\n",
       "      <td>Female</td>\n",
       "      <td>182821554</td>\n",
       "    </tr>\n",
       "  </tbody>\n",
       "</table>\n",
       "</div>"
      ],
      "text/plain": [
       "   Gender  tweet_count\n",
       "0    Male    196947006\n",
       "1  Female    182821554"
      ]
     },
     "execution_count": 53,
     "metadata": {},
     "output_type": "execute_result"
    }
   ],
   "source": [
    "box_plot_gender_tweets=pd.DataFrame({\"Gender\":[\"Male\",\"Female\"],\"tweet_count\":[tweet_count_male,tweet_count_female]})\n",
    "box_plot_gender_tweets"
   ]
  },
  {
   "cell_type": "code",
   "execution_count": 54,
   "metadata": {},
   "outputs": [
    {
     "data": {
      "image/png": "[encoded data removed]",
      "text/plain": [
       "<Figure size 432x288 with 1 Axes>"
      ]
     },
     "metadata": {
      "needs_background": "light"
     },
     "output_type": "display_data"
    }
   ],
   "source": [
    "plt.bar(box_plot_gender_tweets[\"Gender\"],box_plot_gender_tweets[\"tweet_count\"])\n",
    "plt.show()"
   ]
  },
  {
   "cell_type": "markdown",
   "metadata": {},
   "source": [
    "# Feature Selection\n"
   ]
  },
  {
   "cell_type": "code",
   "execution_count": 55,
   "metadata": {},
   "outputs": [],
   "source": [
    "df=df[['text','gender','gender:confidence']]"
   ]
  },
  {
   "cell_type": "code",
   "execution_count": 56,
   "metadata": {},
   "outputs": [
    {
     "data": {
      "text/html": [
       "<div>\n",
       "<style scoped>\n",
       "    .dataframe tbody tr th:only-of-type {\n",
       "        vertical-align: middle;\n",
       "    }\n",
       "\n",
       "    .dataframe tbody tr th {\n",
       "        vertical-align: top;\n",
       "    }\n",
       "\n",
       "    .dataframe thead th {\n",
       "        text-align: right;\n",
       "    }\n",
       "</style>\n",
       "<table border=\"1\" class=\"dataframe\">\n",
       "  <thead>\n",
       "    <tr style=\"text-align: right;\">\n",
       "      <th></th>\n",
       "      <th>text</th>\n",
       "      <th>gender</th>\n",
       "      <th>gender:confidence</th>\n",
       "    </tr>\n",
       "  </thead>\n",
       "  <tbody>\n",
       "    <tr>\n",
       "      <th>0</th>\n",
       "      <td>Robbie E Responds To Critics After Win Against...</td>\n",
       "      <td>male</td>\n",
       "      <td>1.0000</td>\n",
       "    </tr>\n",
       "    <tr>\n",
       "      <th>1</th>\n",
       "      <td>ÛÏIt felt like they were my friends and I was...</td>\n",
       "      <td>male</td>\n",
       "      <td>1.0000</td>\n",
       "    </tr>\n",
       "    <tr>\n",
       "      <th>2</th>\n",
       "      <td>i absolutely adore when louis starts the songs...</td>\n",
       "      <td>male</td>\n",
       "      <td>0.6625</td>\n",
       "    </tr>\n",
       "    <tr>\n",
       "      <th>3</th>\n",
       "      <td>Hi @JordanSpieth - Looking at the url - do you...</td>\n",
       "      <td>male</td>\n",
       "      <td>1.0000</td>\n",
       "    </tr>\n",
       "    <tr>\n",
       "      <th>4</th>\n",
       "      <td>Watching Neighbours on Sky+ catching up with t...</td>\n",
       "      <td>female</td>\n",
       "      <td>1.0000</td>\n",
       "    </tr>\n",
       "    <tr>\n",
       "      <th>...</th>\n",
       "      <td>...</td>\n",
       "      <td>...</td>\n",
       "      <td>...</td>\n",
       "    </tr>\n",
       "    <tr>\n",
       "      <th>20045</th>\n",
       "      <td>@lookupondeath ...Fine, and I'll drink tea too...</td>\n",
       "      <td>female</td>\n",
       "      <td>1.0000</td>\n",
       "    </tr>\n",
       "    <tr>\n",
       "      <th>20046</th>\n",
       "      <td>Greg Hardy you a good player and all but don't...</td>\n",
       "      <td>male</td>\n",
       "      <td>1.0000</td>\n",
       "    </tr>\n",
       "    <tr>\n",
       "      <th>20047</th>\n",
       "      <td>You can miss people and still never want to se...</td>\n",
       "      <td>male</td>\n",
       "      <td>1.0000</td>\n",
       "    </tr>\n",
       "    <tr>\n",
       "      <th>20048</th>\n",
       "      <td>@bitemyapp i had noticed your tendency to pee ...</td>\n",
       "      <td>female</td>\n",
       "      <td>0.8489</td>\n",
       "    </tr>\n",
       "    <tr>\n",
       "      <th>20049</th>\n",
       "      <td>I think for my APUSH creative project I'm goin...</td>\n",
       "      <td>female</td>\n",
       "      <td>1.0000</td>\n",
       "    </tr>\n",
       "  </tbody>\n",
       "</table>\n",
       "<p>20050 rows × 3 columns</p>\n",
       "</div>"
      ],
      "text/plain": [
       "                                                    text  gender  \\\n",
       "0      Robbie E Responds To Critics After Win Against...    male   \n",
       "1      ÛÏIt felt like they were my friends and I was...    male   \n",
       "2      i absolutely adore when louis starts the songs...    male   \n",
       "3      Hi @JordanSpieth - Looking at the url - do you...    male   \n",
       "4      Watching Neighbours on Sky+ catching up with t...  female   \n",
       "...                                                  ...     ...   \n",
       "20045  @lookupondeath ...Fine, and I'll drink tea too...  female   \n",
       "20046  Greg Hardy you a good player and all but don't...    male   \n",
       "20047  You can miss people and still never want to se...    male   \n",
       "20048  @bitemyapp i had noticed your tendency to pee ...  female   \n",
       "20049  I think for my APUSH creative project I'm goin...  female   \n",
       "\n",
       "       gender:confidence  \n",
       "0                 1.0000  \n",
       "1                 1.0000  \n",
       "2                 0.6625  \n",
       "3                 1.0000  \n",
       "4                 1.0000  \n",
       "...                  ...  \n",
       "20045             1.0000  \n",
       "20046             1.0000  \n",
       "20047             1.0000  \n",
       "20048             0.8489  \n",
       "20049             1.0000  \n",
       "\n",
       "[20050 rows x 3 columns]"
      ]
     },
     "execution_count": 56,
     "metadata": {},
     "output_type": "execute_result"
    }
   ],
   "source": [
    "df"
   ]
  },
  {
   "cell_type": "markdown",
   "metadata": {},
   "source": [
    "# Checking and fixing null values"
   ]
  },
  {
   "cell_type": "code",
   "execution_count": 57,
   "metadata": {},
   "outputs": [
    {
     "data": {
      "text/plain": [
       "text                  0\n",
       "gender               97\n",
       "gender:confidence    26\n",
       "dtype: int64"
      ]
     },
     "execution_count": 57,
     "metadata": {},
     "output_type": "execute_result"
    }
   ],
   "source": [
    "df.isna().sum()"
   ]
  },
  {
   "cell_type": "code",
   "execution_count": 58,
   "metadata": {},
   "outputs": [
    {
     "name": "stderr",
     "output_type": "stream",
     "text": [
      "<ipython-input-58-c64f9f573c18>:1: SettingWithCopyWarning: \n",
      "A value is trying to be set on a copy of a slice from a DataFrame\n",
      "\n",
      "See the caveats in the documentation: https://pandas.pydata.org/pandas-docs/stable/user_guide/indexing.html#returning-a-view-versus-a-copy\n",
      "  df.dropna(inplace=True)\n"
     ]
    }
   ],
   "source": [
    "df.dropna(inplace=True)"
   ]
  },
  {
   "cell_type": "code",
   "execution_count": 59,
   "metadata": {},
   "outputs": [
    {
     "data": {
      "text/plain": [
       "text                 0\n",
       "gender               0\n",
       "gender:confidence    0\n",
       "dtype: int64"
      ]
     },
     "execution_count": 59,
     "metadata": {},
     "output_type": "execute_result"
    }
   ],
   "source": [
    "df.isna().sum()"
   ]
  },
  {
   "cell_type": "code",
   "execution_count": 60,
   "metadata": {},
   "outputs": [],
   "source": [
    "df.reset_index(drop=True,inplace=True)"
   ]
  },
  {
   "cell_type": "code",
   "execution_count": 61,
   "metadata": {},
   "outputs": [
    {
     "data": {
      "text/html": [
       "<div>\n",
       "<style scoped>\n",
       "    .dataframe tbody tr th:only-of-type {\n",
       "        vertical-align: middle;\n",
       "    }\n",
       "\n",
       "    .dataframe tbody tr th {\n",
       "        vertical-align: top;\n",
       "    }\n",
       "\n",
       "    .dataframe thead th {\n",
       "        text-align: right;\n",
       "    }\n",
       "</style>\n",
       "<table border=\"1\" class=\"dataframe\">\n",
       "  <thead>\n",
       "    <tr style=\"text-align: right;\">\n",
       "      <th></th>\n",
       "      <th>text</th>\n",
       "      <th>gender</th>\n",
       "      <th>gender:confidence</th>\n",
       "    </tr>\n",
       "  </thead>\n",
       "  <tbody>\n",
       "    <tr>\n",
       "      <th>0</th>\n",
       "      <td>Robbie E Responds To Critics After Win Against...</td>\n",
       "      <td>male</td>\n",
       "      <td>1.0000</td>\n",
       "    </tr>\n",
       "    <tr>\n",
       "      <th>1</th>\n",
       "      <td>ÛÏIt felt like they were my friends and I was...</td>\n",
       "      <td>male</td>\n",
       "      <td>1.0000</td>\n",
       "    </tr>\n",
       "    <tr>\n",
       "      <th>2</th>\n",
       "      <td>i absolutely adore when louis starts the songs...</td>\n",
       "      <td>male</td>\n",
       "      <td>0.6625</td>\n",
       "    </tr>\n",
       "    <tr>\n",
       "      <th>3</th>\n",
       "      <td>Hi @JordanSpieth - Looking at the url - do you...</td>\n",
       "      <td>male</td>\n",
       "      <td>1.0000</td>\n",
       "    </tr>\n",
       "    <tr>\n",
       "      <th>4</th>\n",
       "      <td>Watching Neighbours on Sky+ catching up with t...</td>\n",
       "      <td>female</td>\n",
       "      <td>1.0000</td>\n",
       "    </tr>\n",
       "    <tr>\n",
       "      <th>...</th>\n",
       "      <td>...</td>\n",
       "      <td>...</td>\n",
       "      <td>...</td>\n",
       "    </tr>\n",
       "    <tr>\n",
       "      <th>19948</th>\n",
       "      <td>@lookupondeath ...Fine, and I'll drink tea too...</td>\n",
       "      <td>female</td>\n",
       "      <td>1.0000</td>\n",
       "    </tr>\n",
       "    <tr>\n",
       "      <th>19949</th>\n",
       "      <td>Greg Hardy you a good player and all but don't...</td>\n",
       "      <td>male</td>\n",
       "      <td>1.0000</td>\n",
       "    </tr>\n",
       "    <tr>\n",
       "      <th>19950</th>\n",
       "      <td>You can miss people and still never want to se...</td>\n",
       "      <td>male</td>\n",
       "      <td>1.0000</td>\n",
       "    </tr>\n",
       "    <tr>\n",
       "      <th>19951</th>\n",
       "      <td>@bitemyapp i had noticed your tendency to pee ...</td>\n",
       "      <td>female</td>\n",
       "      <td>0.8489</td>\n",
       "    </tr>\n",
       "    <tr>\n",
       "      <th>19952</th>\n",
       "      <td>I think for my APUSH creative project I'm goin...</td>\n",
       "      <td>female</td>\n",
       "      <td>1.0000</td>\n",
       "    </tr>\n",
       "  </tbody>\n",
       "</table>\n",
       "<p>19953 rows × 3 columns</p>\n",
       "</div>"
      ],
      "text/plain": [
       "                                                    text  gender  \\\n",
       "0      Robbie E Responds To Critics After Win Against...    male   \n",
       "1      ÛÏIt felt like they were my friends and I was...    male   \n",
       "2      i absolutely adore when louis starts the songs...    male   \n",
       "3      Hi @JordanSpieth - Looking at the url - do you...    male   \n",
       "4      Watching Neighbours on Sky+ catching up with t...  female   \n",
       "...                                                  ...     ...   \n",
       "19948  @lookupondeath ...Fine, and I'll drink tea too...  female   \n",
       "19949  Greg Hardy you a good player and all but don't...    male   \n",
       "19950  You can miss people and still never want to se...    male   \n",
       "19951  @bitemyapp i had noticed your tendency to pee ...  female   \n",
       "19952  I think for my APUSH creative project I'm goin...  female   \n",
       "\n",
       "       gender:confidence  \n",
       "0                 1.0000  \n",
       "1                 1.0000  \n",
       "2                 0.6625  \n",
       "3                 1.0000  \n",
       "4                 1.0000  \n",
       "...                  ...  \n",
       "19948             1.0000  \n",
       "19949             1.0000  \n",
       "19950             1.0000  \n",
       "19951             0.8489  \n",
       "19952             1.0000  \n",
       "\n",
       "[19953 rows x 3 columns]"
      ]
     },
     "execution_count": 61,
     "metadata": {},
     "output_type": "execute_result"
    }
   ],
   "source": [
    "df"
   ]
  },
  {
   "cell_type": "code",
   "execution_count": 62,
   "metadata": {},
   "outputs": [],
   "source": [
    "df=df[df['gender:confidence']>0.9]"
   ]
  },
  {
   "cell_type": "code",
   "execution_count": 63,
   "metadata": {},
   "outputs": [],
   "source": [
    "df.reset_index(drop=True,inplace=True)"
   ]
  },
  {
   "cell_type": "code",
   "execution_count": 64,
   "metadata": {},
   "outputs": [
    {
     "name": "stderr",
     "output_type": "stream",
     "text": [
      "C:\\Users\\Mudit\\anaconda3\\lib\\site-packages\\pandas\\core\\frame.py:4163: SettingWithCopyWarning: \n",
      "A value is trying to be set on a copy of a slice from a DataFrame\n",
      "\n",
      "See the caveats in the documentation: https://pandas.pydata.org/pandas-docs/stable/user_guide/indexing.html#returning-a-view-versus-a-copy\n",
      "  return super().drop(\n"
     ]
    }
   ],
   "source": [
    "df.drop('gender:confidence',axis=1,inplace=True)"
   ]
  },
  {
   "cell_type": "markdown",
   "metadata": {},
   "source": [
    "# Converting Gender to  0 and 1"
   ]
  },
  {
   "cell_type": "code",
   "execution_count": 65,
   "metadata": {},
   "outputs": [
    {
     "name": "stderr",
     "output_type": "stream",
     "text": [
      "C:\\Users\\Mudit\\anaconda3\\lib\\site-packages\\pandas\\core\\series.py:1020: SettingWithCopyWarning: \n",
      "A value is trying to be set on a copy of a slice from a DataFrame\n",
      "\n",
      "See the caveats in the documentation: https://pandas.pydata.org/pandas-docs/stable/user_guide/indexing.html#returning-a-view-versus-a-copy\n",
      "  self._where(~key, value, inplace=True)\n"
     ]
    }
   ],
   "source": [
    "df.gender[df.gender == 'male'] = 0\n",
    "df.gender[df.gender == 'female'] = 1"
   ]
  },
  {
   "cell_type": "code",
   "execution_count": 66,
   "metadata": {},
   "outputs": [
    {
     "data": {
      "text/html": [
       "<div>\n",
       "<style scoped>\n",
       "    .dataframe tbody tr th:only-of-type {\n",
       "        vertical-align: middle;\n",
       "    }\n",
       "\n",
       "    .dataframe tbody tr th {\n",
       "        vertical-align: top;\n",
       "    }\n",
       "\n",
       "    .dataframe thead th {\n",
       "        text-align: right;\n",
       "    }\n",
       "</style>\n",
       "<table border=\"1\" class=\"dataframe\">\n",
       "  <thead>\n",
       "    <tr style=\"text-align: right;\">\n",
       "      <th></th>\n",
       "      <th>text</th>\n",
       "      <th>gender</th>\n",
       "    </tr>\n",
       "  </thead>\n",
       "  <tbody>\n",
       "    <tr>\n",
       "      <th>0</th>\n",
       "      <td>Robbie E Responds To Critics After Win Against...</td>\n",
       "      <td>0</td>\n",
       "    </tr>\n",
       "    <tr>\n",
       "      <th>1</th>\n",
       "      <td>ÛÏIt felt like they were my friends and I was...</td>\n",
       "      <td>0</td>\n",
       "    </tr>\n",
       "    <tr>\n",
       "      <th>2</th>\n",
       "      <td>Hi @JordanSpieth - Looking at the url - do you...</td>\n",
       "      <td>0</td>\n",
       "    </tr>\n",
       "    <tr>\n",
       "      <th>3</th>\n",
       "      <td>Watching Neighbours on Sky+ catching up with t...</td>\n",
       "      <td>1</td>\n",
       "    </tr>\n",
       "    <tr>\n",
       "      <th>4</th>\n",
       "      <td>Ive seen people on the train with lamps, chair...</td>\n",
       "      <td>1</td>\n",
       "    </tr>\n",
       "    <tr>\n",
       "      <th>...</th>\n",
       "      <td>...</td>\n",
       "      <td>...</td>\n",
       "    </tr>\n",
       "    <tr>\n",
       "      <th>13927</th>\n",
       "      <td>Need A Ride Home From Practice _Ù÷Ô_Ù÷Ô_Ù÷ÔAnd...</td>\n",
       "      <td>1</td>\n",
       "    </tr>\n",
       "    <tr>\n",
       "      <th>13928</th>\n",
       "      <td>@lookupondeath ...Fine, and I'll drink tea too...</td>\n",
       "      <td>1</td>\n",
       "    </tr>\n",
       "    <tr>\n",
       "      <th>13929</th>\n",
       "      <td>Greg Hardy you a good player and all but don't...</td>\n",
       "      <td>0</td>\n",
       "    </tr>\n",
       "    <tr>\n",
       "      <th>13930</th>\n",
       "      <td>You can miss people and still never want to se...</td>\n",
       "      <td>0</td>\n",
       "    </tr>\n",
       "    <tr>\n",
       "      <th>13931</th>\n",
       "      <td>I think for my APUSH creative project I'm goin...</td>\n",
       "      <td>1</td>\n",
       "    </tr>\n",
       "  </tbody>\n",
       "</table>\n",
       "<p>13932 rows × 2 columns</p>\n",
       "</div>"
      ],
      "text/plain": [
       "                                                    text gender\n",
       "0      Robbie E Responds To Critics After Win Against...      0\n",
       "1      ÛÏIt felt like they were my friends and I was...      0\n",
       "2      Hi @JordanSpieth - Looking at the url - do you...      0\n",
       "3      Watching Neighbours on Sky+ catching up with t...      1\n",
       "4      Ive seen people on the train with lamps, chair...      1\n",
       "...                                                  ...    ...\n",
       "13927  Need A Ride Home From Practice _Ù÷Ô_Ù÷Ô_Ù÷ÔAnd...      1\n",
       "13928  @lookupondeath ...Fine, and I'll drink tea too...      1\n",
       "13929  Greg Hardy you a good player and all but don't...      0\n",
       "13930  You can miss people and still never want to se...      0\n",
       "13931  I think for my APUSH creative project I'm goin...      1\n",
       "\n",
       "[13932 rows x 2 columns]"
      ]
     },
     "execution_count": 66,
     "metadata": {},
     "output_type": "execute_result"
    }
   ],
   "source": [
    "df"
   ]
  },
  {
   "cell_type": "code",
   "execution_count": 67,
   "metadata": {},
   "outputs": [
    {
     "data": {
      "text/plain": [
       "1          5368\n",
       "0          4655\n",
       "brand      3787\n",
       "unknown     122\n",
       "Name: gender, dtype: int64"
      ]
     },
     "execution_count": 67,
     "metadata": {},
     "output_type": "execute_result"
    }
   ],
   "source": [
    "df['gender'].value_counts()"
   ]
  },
  {
   "cell_type": "code",
   "execution_count": 68,
   "metadata": {},
   "outputs": [],
   "source": [
    "df=df[(df['gender']==1)|(df['gender']==0)]"
   ]
  },
  {
   "cell_type": "code",
   "execution_count": 69,
   "metadata": {},
   "outputs": [
    {
     "data": {
      "text/plain": [
       "1    5368\n",
       "0    4655\n",
       "Name: gender, dtype: int64"
      ]
     },
     "execution_count": 69,
     "metadata": {},
     "output_type": "execute_result"
    }
   ],
   "source": [
    "df['gender'].value_counts()"
   ]
  },
  {
   "cell_type": "code",
   "execution_count": 70,
   "metadata": {},
   "outputs": [
    {
     "name": "stdout",
     "output_type": "stream",
     "text": [
      "<class 'pandas.core.frame.DataFrame'>\n",
      "Int64Index: 10023 entries, 0 to 13931\n",
      "Data columns (total 2 columns):\n",
      " #   Column  Non-Null Count  Dtype \n",
      "---  ------  --------------  ----- \n",
      " 0   text    10023 non-null  object\n",
      " 1   gender  10023 non-null  object\n",
      "dtypes: object(2)\n",
      "memory usage: 234.9+ KB\n"
     ]
    }
   ],
   "source": [
    "df.info()"
   ]
  },
  {
   "cell_type": "code",
   "execution_count": 71,
   "metadata": {},
   "outputs": [
    {
     "name": "stderr",
     "output_type": "stream",
     "text": [
      "<ipython-input-71-f147af17e265>:1: SettingWithCopyWarning: \n",
      "A value is trying to be set on a copy of a slice from a DataFrame.\n",
      "Try using .loc[row_indexer,col_indexer] = value instead\n",
      "\n",
      "See the caveats in the documentation: https://pandas.pydata.org/pandas-docs/stable/user_guide/indexing.html#returning-a-view-versus-a-copy\n",
      "  df['gender']=df['gender'].astype(int)\n"
     ]
    }
   ],
   "source": [
    "df['gender']=df['gender'].astype(int)"
   ]
  },
  {
   "cell_type": "code",
   "execution_count": 72,
   "metadata": {},
   "outputs": [
    {
     "name": "stdout",
     "output_type": "stream",
     "text": [
      "<class 'pandas.core.frame.DataFrame'>\n",
      "Int64Index: 10023 entries, 0 to 13931\n",
      "Data columns (total 2 columns):\n",
      " #   Column  Non-Null Count  Dtype \n",
      "---  ------  --------------  ----- \n",
      " 0   text    10023 non-null  object\n",
      " 1   gender  10023 non-null  int32 \n",
      "dtypes: int32(1), object(1)\n",
      "memory usage: 195.8+ KB\n"
     ]
    }
   ],
   "source": [
    "df.info()"
   ]
  },
  {
   "cell_type": "code",
   "execution_count": 73,
   "metadata": {},
   "outputs": [
    {
     "data": {
      "text/html": [
       "<div>\n",
       "<style scoped>\n",
       "    .dataframe tbody tr th:only-of-type {\n",
       "        vertical-align: middle;\n",
       "    }\n",
       "\n",
       "    .dataframe tbody tr th {\n",
       "        vertical-align: top;\n",
       "    }\n",
       "\n",
       "    .dataframe thead th {\n",
       "        text-align: right;\n",
       "    }\n",
       "</style>\n",
       "<table border=\"1\" class=\"dataframe\">\n",
       "  <thead>\n",
       "    <tr style=\"text-align: right;\">\n",
       "      <th></th>\n",
       "      <th>text</th>\n",
       "      <th>gender</th>\n",
       "    </tr>\n",
       "  </thead>\n",
       "  <tbody>\n",
       "    <tr>\n",
       "      <th>0</th>\n",
       "      <td>Robbie E Responds To Critics After Win Against...</td>\n",
       "      <td>0</td>\n",
       "    </tr>\n",
       "    <tr>\n",
       "      <th>1</th>\n",
       "      <td>ÛÏIt felt like they were my friends and I was...</td>\n",
       "      <td>0</td>\n",
       "    </tr>\n",
       "    <tr>\n",
       "      <th>2</th>\n",
       "      <td>Hi @JordanSpieth - Looking at the url - do you...</td>\n",
       "      <td>0</td>\n",
       "    </tr>\n",
       "    <tr>\n",
       "      <th>3</th>\n",
       "      <td>Watching Neighbours on Sky+ catching up with t...</td>\n",
       "      <td>1</td>\n",
       "    </tr>\n",
       "    <tr>\n",
       "      <th>4</th>\n",
       "      <td>Ive seen people on the train with lamps, chair...</td>\n",
       "      <td>1</td>\n",
       "    </tr>\n",
       "    <tr>\n",
       "      <th>...</th>\n",
       "      <td>...</td>\n",
       "      <td>...</td>\n",
       "    </tr>\n",
       "    <tr>\n",
       "      <th>13927</th>\n",
       "      <td>Need A Ride Home From Practice _Ù÷Ô_Ù÷Ô_Ù÷ÔAnd...</td>\n",
       "      <td>1</td>\n",
       "    </tr>\n",
       "    <tr>\n",
       "      <th>13928</th>\n",
       "      <td>@lookupondeath ...Fine, and I'll drink tea too...</td>\n",
       "      <td>1</td>\n",
       "    </tr>\n",
       "    <tr>\n",
       "      <th>13929</th>\n",
       "      <td>Greg Hardy you a good player and all but don't...</td>\n",
       "      <td>0</td>\n",
       "    </tr>\n",
       "    <tr>\n",
       "      <th>13930</th>\n",
       "      <td>You can miss people and still never want to se...</td>\n",
       "      <td>0</td>\n",
       "    </tr>\n",
       "    <tr>\n",
       "      <th>13931</th>\n",
       "      <td>I think for my APUSH creative project I'm goin...</td>\n",
       "      <td>1</td>\n",
       "    </tr>\n",
       "  </tbody>\n",
       "</table>\n",
       "<p>10023 rows × 2 columns</p>\n",
       "</div>"
      ],
      "text/plain": [
       "                                                    text  gender\n",
       "0      Robbie E Responds To Critics After Win Against...       0\n",
       "1      ÛÏIt felt like they were my friends and I was...       0\n",
       "2      Hi @JordanSpieth - Looking at the url - do you...       0\n",
       "3      Watching Neighbours on Sky+ catching up with t...       1\n",
       "4      Ive seen people on the train with lamps, chair...       1\n",
       "...                                                  ...     ...\n",
       "13927  Need A Ride Home From Practice _Ù÷Ô_Ù÷Ô_Ù÷ÔAnd...       1\n",
       "13928  @lookupondeath ...Fine, and I'll drink tea too...       1\n",
       "13929  Greg Hardy you a good player and all but don't...       0\n",
       "13930  You can miss people and still never want to se...       0\n",
       "13931  I think for my APUSH creative project I'm goin...       1\n",
       "\n",
       "[10023 rows x 2 columns]"
      ]
     },
     "execution_count": 73,
     "metadata": {},
     "output_type": "execute_result"
    }
   ],
   "source": [
    "df"
   ]
  },
  {
   "cell_type": "code",
   "execution_count": 74,
   "metadata": {},
   "outputs": [],
   "source": [
    "df.reset_index(drop=True,inplace=True)"
   ]
  },
  {
   "cell_type": "markdown",
   "metadata": {},
   "source": [
    "# Gender Distribution"
   ]
  },
  {
   "cell_type": "code",
   "execution_count": 75,
   "metadata": {},
   "outputs": [
    {
     "data": {
      "text/plain": [
       "([<matplotlib.patches.Wedge at 0x1496e42dd90>,\n",
       "  <matplotlib.patches.Wedge at 0x1496e439700>],\n",
       " [Text(-1.0977809021860363, 0.06983617111219902, 'Male'),\n",
       "  Text(1.0977809087245658, -0.06983606833053257, 'Female')],\n",
       " [Text(-0.5987895830105652, 0.03809245697029037, '48%'),\n",
       "  Text(0.5987895865770357, -0.03809240090756322, '52%')])"
      ]
     },
     "execution_count": 75,
     "metadata": {},
     "output_type": "execute_result"
    },
    {
     "data": {
      "image/png": "[encoded data removed]",
      "text/plain": [
       "<Figure size 432x288 with 1 Axes>"
      ]
     },
     "metadata": {},
     "output_type": "display_data"
    }
   ],
   "source": [
    "gender=[\"Male\",\"Female\"]\n",
    "gender_values=[6216,6740]\n",
    "plt.pie(gender_values, labels=gender, autopct='%0.f%%', shadow=True, startangle=90)"
   ]
  },
  {
   "cell_type": "markdown",
   "metadata": {},
   "source": [
    "# Pre-processing"
   ]
  },
  {
   "cell_type": "code",
   "execution_count": 76,
   "metadata": {},
   "outputs": [],
   "source": [
    "import string\n",
    "import nltk"
   ]
  },
  {
   "cell_type": "code",
   "execution_count": 77,
   "metadata": {},
   "outputs": [
    {
     "name": "stderr",
     "output_type": "stream",
     "text": [
      "[nltk_data] Downloading package stopwords to\n",
      "[nltk_data]     C:\\Users\\Mudit\\AppData\\Roaming\\nltk_data...\n",
      "[nltk_data]   Package stopwords is already up-to-date!\n"
     ]
    },
    {
     "data": {
      "text/plain": [
       "True"
      ]
     },
     "execution_count": 77,
     "metadata": {},
     "output_type": "execute_result"
    }
   ],
   "source": [
    "nltk.download('stopwords')"
   ]
  },
  {
   "cell_type": "code",
   "execution_count": 78,
   "metadata": {},
   "outputs": [
    {
     "data": {
      "text/plain": [
       "['i', 'me', 'my', 'myself', 'we', 'our', 'ours', 'ourselves', 'you', \"you're\"]"
      ]
     },
     "execution_count": 78,
     "metadata": {},
     "output_type": "execute_result"
    }
   ],
   "source": [
    "from nltk.corpus import stopwords\n",
    "stopwords.words('english')[0:10] # Show some stop words"
   ]
  },
  {
   "cell_type": "code",
   "execution_count": 79,
   "metadata": {},
   "outputs": [],
   "source": [
    "def text_process(mess):\n",
    "    \"\"\"\n",
    "    Takes in a string of text, then performs the following:\n",
    "    1. Remove all punctuation\n",
    "    2. Remove all stopwords\n",
    "    3. Returns a list of the cleaned text\n",
    "    \"\"\"\n",
    "    # Check characters to see if they are in punctuation\n",
    "    nopunc = [char for char in mess if char not in string.punctuation]\n",
    "\n",
    "    # Join the characters again to form the string.\n",
    "    nopunc = ''.join(nopunc)\n",
    "    \n",
    "    # Now just remove any stopwords\n",
    "    return [word for word in nopunc.split() if word.lower() not in stopwords.words('english')]"
   ]
  },
  {
   "cell_type": "markdown",
   "metadata": {},
   "source": [
    "# Applying CountVectorizer"
   ]
  },
  {
   "cell_type": "code",
   "execution_count": 80,
   "metadata": {},
   "outputs": [],
   "source": [
    "from sklearn.feature_extraction.text import CountVectorizer"
   ]
  },
  {
   "cell_type": "code",
   "execution_count": 81,
   "metadata": {},
   "outputs": [],
   "source": [
    "cv=CountVectorizer(analyzer=text_process).fit(df['text'])"
   ]
  },
  {
   "cell_type": "code",
   "execution_count": 82,
   "metadata": {},
   "outputs": [],
   "source": [
    "X=cv.fit_transform(df['text'])"
   ]
  },
  {
   "cell_type": "code",
   "execution_count": 83,
   "metadata": {},
   "outputs": [
    {
     "data": {
      "text/plain": [
       "<10023x30434 sparse matrix of type '<class 'numpy.int64'>'\n",
       "\twith 91051 stored elements in Compressed Sparse Row format>"
      ]
     },
     "execution_count": 83,
     "metadata": {},
     "output_type": "execute_result"
    }
   ],
   "source": [
    "X"
   ]
  },
  {
   "cell_type": "code",
   "execution_count": 84,
   "metadata": {},
   "outputs": [],
   "source": [
    "Y=df['gender']"
   ]
  },
  {
   "cell_type": "markdown",
   "metadata": {},
   "source": [
    "# Train Test Split"
   ]
  },
  {
   "cell_type": "code",
   "execution_count": 85,
   "metadata": {},
   "outputs": [],
   "source": [
    "from sklearn.model_selection import train_test_split"
   ]
  },
  {
   "cell_type": "code",
   "execution_count": 86,
   "metadata": {},
   "outputs": [],
   "source": [
    "X_train, X_test, Y_train, Y_test = train_test_split(X, Y, test_size=0.3, random_state=42)"
   ]
  },
  {
   "cell_type": "markdown",
   "metadata": {},
   "source": [
    "# Support Vector Machine"
   ]
  },
  {
   "cell_type": "code",
   "execution_count": 87,
   "metadata": {},
   "outputs": [],
   "source": [
    "from sklearn.svm import SVC"
   ]
  },
  {
   "cell_type": "code",
   "execution_count": 88,
   "metadata": {},
   "outputs": [],
   "source": [
    "sv=SVC()"
   ]
  },
  {
   "cell_type": "code",
   "execution_count": 89,
   "metadata": {},
   "outputs": [
    {
     "data": {
      "text/plain": [
       "SVC()"
      ]
     },
     "execution_count": 89,
     "metadata": {},
     "output_type": "execute_result"
    }
   ],
   "source": [
    "sv.fit(X_train,Y_train)"
   ]
  },
  {
   "cell_type": "code",
   "execution_count": 90,
   "metadata": {},
   "outputs": [],
   "source": [
    "predsv=sv.predict(X_test)"
   ]
  },
  {
   "cell_type": "code",
   "execution_count": 91,
   "metadata": {},
   "outputs": [
    {
     "name": "stdout",
     "output_type": "stream",
     "text": [
      "              precision    recall  f1-score   support\n",
      "\n",
      "           0       0.58      0.45      0.50      1362\n",
      "           1       0.61      0.73      0.67      1645\n",
      "\n",
      "    accuracy                           0.60      3007\n",
      "   macro avg       0.60      0.59      0.59      3007\n",
      "weighted avg       0.60      0.60      0.59      3007\n",
      "\n"
     ]
    }
   ],
   "source": [
    "print(classification_report(Y_test,predsv))"
   ]
  },
  {
   "cell_type": "code",
   "execution_count": 92,
   "metadata": {},
   "outputs": [
    {
     "name": "stdout",
     "output_type": "stream",
     "text": [
      "[[ 608  754]\n",
      " [ 444 1201]]\n"
     ]
    }
   ],
   "source": [
    "print(confusion_matrix(Y_test,predsv))"
   ]
  },
  {
   "cell_type": "code",
   "execution_count": 93,
   "metadata": {},
   "outputs": [
    {
     "name": "stdout",
     "output_type": "stream",
     "text": [
      "0.6672222222222222\n"
     ]
    }
   ],
   "source": [
    "print(f1_score(Y_test,predsv))"
   ]
  },
  {
   "cell_type": "markdown",
   "metadata": {},
   "source": [
    "# Multinomial NB"
   ]
  },
  {
   "cell_type": "code",
   "execution_count": 94,
   "metadata": {},
   "outputs": [],
   "source": [
    "from sklearn.naive_bayes import MultinomialNB"
   ]
  },
  {
   "cell_type": "code",
   "execution_count": 95,
   "metadata": {},
   "outputs": [],
   "source": [
    "mb=MultinomialNB()"
   ]
  },
  {
   "cell_type": "code",
   "execution_count": 96,
   "metadata": {},
   "outputs": [
    {
     "data": {
      "text/plain": [
       "MultinomialNB()"
      ]
     },
     "execution_count": 96,
     "metadata": {},
     "output_type": "execute_result"
    }
   ],
   "source": [
    "mb.fit(X_train,Y_train)"
   ]
  },
  {
   "cell_type": "code",
   "execution_count": 97,
   "metadata": {},
   "outputs": [],
   "source": [
    "predmb=mb.predict(X_test)"
   ]
  },
  {
   "cell_type": "code",
   "execution_count": 98,
   "metadata": {},
   "outputs": [
    {
     "name": "stdout",
     "output_type": "stream",
     "text": [
      "              precision    recall  f1-score   support\n",
      "\n",
      "           0       0.58      0.47      0.52      1362\n",
      "           1       0.62      0.73      0.67      1645\n",
      "\n",
      "    accuracy                           0.61      3007\n",
      "   macro avg       0.60      0.60      0.59      3007\n",
      "weighted avg       0.60      0.61      0.60      3007\n",
      "\n",
      "\n",
      "\n",
      "[[ 636  726]\n",
      " [ 452 1193]]\n",
      "\n",
      "\n",
      "0.6694725028058361\n"
     ]
    }
   ],
   "source": [
    "print(classification_report(Y_test,predmb))\n",
    "print('\\n')\n",
    "print(confusion_matrix(Y_test,predmb))\n",
    "print('\\n')\n",
    "print(f1_score(Y_test,predmb))"
   ]
  },
  {
   "cell_type": "markdown",
   "metadata": {},
   "source": [
    "# Random Forest"
   ]
  },
  {
   "cell_type": "code",
   "execution_count": 99,
   "metadata": {},
   "outputs": [],
   "source": [
    "from sklearn.ensemble import RandomForestClassifier"
   ]
  },
  {
   "cell_type": "code",
   "execution_count": 100,
   "metadata": {},
   "outputs": [],
   "source": [
    "rf=RandomForestClassifier()"
   ]
  },
  {
   "cell_type": "code",
   "execution_count": 101,
   "metadata": {},
   "outputs": [
    {
     "data": {
      "text/plain": [
       "RandomForestClassifier()"
      ]
     },
     "execution_count": 101,
     "metadata": {},
     "output_type": "execute_result"
    }
   ],
   "source": [
    "rf.fit(X_train,Y_train)"
   ]
  },
  {
   "cell_type": "code",
   "execution_count": 102,
   "metadata": {},
   "outputs": [],
   "source": [
    "predrf=rf.predict(X_test)"
   ]
  },
  {
   "cell_type": "code",
   "execution_count": 103,
   "metadata": {},
   "outputs": [
    {
     "name": "stdout",
     "output_type": "stream",
     "text": [
      "              precision    recall  f1-score   support\n",
      "\n",
      "           0       0.55      0.46      0.50      1362\n",
      "           1       0.60      0.69      0.64      1645\n",
      "\n",
      "    accuracy                           0.58      3007\n",
      "   macro avg       0.58      0.57      0.57      3007\n",
      "weighted avg       0.58      0.58      0.58      3007\n",
      "\n",
      "\n",
      "\n",
      "[[ 622  740]\n",
      " [ 513 1132]]\n",
      "\n",
      "\n",
      "0.6437304520898492\n"
     ]
    }
   ],
   "source": [
    "print(classification_report(Y_test,predrf))\n",
    "print('\\n')\n",
    "print(confusion_matrix(Y_test,predrf))\n",
    "print('\\n')\n",
    "print(f1_score(Y_test,predrf))"
   ]
  },
  {
   "cell_type": "markdown",
   "metadata": {},
   "source": [
    "# Gradient Boosting Classifier"
   ]
  },
  {
   "cell_type": "code",
   "execution_count": 104,
   "metadata": {},
   "outputs": [],
   "source": [
    "from sklearn.ensemble import GradientBoostingClassifier"
   ]
  },
  {
   "cell_type": "code",
   "execution_count": 105,
   "metadata": {},
   "outputs": [],
   "source": [
    "gb=GradientBoostingClassifier()"
   ]
  },
  {
   "cell_type": "code",
   "execution_count": 106,
   "metadata": {},
   "outputs": [
    {
     "data": {
      "text/plain": [
       "GradientBoostingClassifier()"
      ]
     },
     "execution_count": 106,
     "metadata": {},
     "output_type": "execute_result"
    }
   ],
   "source": [
    "gb.fit(X_train,Y_train)"
   ]
  },
  {
   "cell_type": "code",
   "execution_count": 107,
   "metadata": {},
   "outputs": [],
   "source": [
    "predgb=gb.predict(X_test)"
   ]
  },
  {
   "cell_type": "code",
   "execution_count": 108,
   "metadata": {},
   "outputs": [
    {
     "name": "stdout",
     "output_type": "stream",
     "text": [
      "              precision    recall  f1-score   support\n",
      "\n",
      "           0       0.61      0.16      0.26      1362\n",
      "           1       0.57      0.91      0.70      1645\n",
      "\n",
      "    accuracy                           0.57      3007\n",
      "   macro avg       0.59      0.54      0.48      3007\n",
      "weighted avg       0.59      0.57      0.50      3007\n",
      "\n",
      "\n",
      "\n",
      "[[ 223 1139]\n",
      " [ 144 1501]]\n",
      "\n",
      "\n",
      "0.7005834305717621\n"
     ]
    }
   ],
   "source": [
    "print(classification_report(Y_test,predgb))\n",
    "print('\\n')\n",
    "print(confusion_matrix(Y_test,predgb))\n",
    "print('\\n')\n",
    "print(f1_score(Y_test,predgb))"
   ]
  },
  {
   "cell_type": "markdown",
   "metadata": {},
   "source": [
    "# KNN"
   ]
  },
  {
   "cell_type": "code",
   "execution_count": 109,
   "metadata": {},
   "outputs": [],
   "source": [
    "from sklearn.neighbors import KNeighborsClassifier "
   ]
  },
  {
   "cell_type": "code",
   "execution_count": 110,
   "metadata": {},
   "outputs": [],
   "source": [
    "knn=KNeighborsClassifier()"
   ]
  },
  {
   "cell_type": "code",
   "execution_count": 111,
   "metadata": {},
   "outputs": [
    {
     "data": {
      "text/plain": [
       "KNeighborsClassifier()"
      ]
     },
     "execution_count": 111,
     "metadata": {},
     "output_type": "execute_result"
    }
   ],
   "source": [
    "knn.fit(X_train,Y_train)"
   ]
  },
  {
   "cell_type": "code",
   "execution_count": 112,
   "metadata": {},
   "outputs": [],
   "source": [
    "predknn=knn.predict(X_test)"
   ]
  },
  {
   "cell_type": "code",
   "execution_count": 113,
   "metadata": {},
   "outputs": [
    {
     "name": "stdout",
     "output_type": "stream",
     "text": [
      "              precision    recall  f1-score   support\n",
      "\n",
      "           0       0.46      0.43      0.44      1362\n",
      "           1       0.55      0.58      0.57      1645\n",
      "\n",
      "    accuracy                           0.51      3007\n",
      "   macro avg       0.50      0.50      0.50      3007\n",
      "weighted avg       0.51      0.51      0.51      3007\n",
      "\n",
      "\n",
      "\n",
      "[[581 781]\n",
      " [686 959]]\n",
      "\n",
      "\n",
      "0.5666174298375185\n"
     ]
    }
   ],
   "source": [
    "print(classification_report(Y_test,predknn))\n",
    "print('\\n')\n",
    "print(confusion_matrix(Y_test,predknn))\n",
    "print('\\n')\n",
    "print(f1_score(Y_test,predknn))"
   ]
  },
  {
   "cell_type": "markdown",
   "metadata": {},
   "source": [
    "# Logistic Regression"
   ]
  },
  {
   "cell_type": "code",
   "execution_count": 114,
   "metadata": {},
   "outputs": [],
   "source": [
    "from sklearn.linear_model import LogisticRegression"
   ]
  },
  {
   "cell_type": "code",
   "execution_count": 115,
   "metadata": {},
   "outputs": [],
   "source": [
    "lr=LogisticRegression()"
   ]
  },
  {
   "cell_type": "code",
   "execution_count": 116,
   "metadata": {},
   "outputs": [
    {
     "data": {
      "text/plain": [
       "LogisticRegression()"
      ]
     },
     "execution_count": 116,
     "metadata": {},
     "output_type": "execute_result"
    }
   ],
   "source": [
    "lr.fit(X_train,Y_train)"
   ]
  },
  {
   "cell_type": "code",
   "execution_count": 117,
   "metadata": {},
   "outputs": [],
   "source": [
    "predlr=lr.predict(X_test)"
   ]
  },
  {
   "cell_type": "code",
   "execution_count": 118,
   "metadata": {},
   "outputs": [
    {
     "name": "stdout",
     "output_type": "stream",
     "text": [
      "              precision    recall  f1-score   support\n",
      "\n",
      "           0       0.55      0.51      0.53      1362\n",
      "           1       0.62      0.65      0.63      1645\n",
      "\n",
      "    accuracy                           0.59      3007\n",
      "   macro avg       0.58      0.58      0.58      3007\n",
      "weighted avg       0.59      0.59      0.59      3007\n",
      "\n",
      "\n",
      "\n",
      "[[ 700  662]\n",
      " [ 575 1070]]\n",
      "\n",
      "\n",
      "0.6336985490079953\n"
     ]
    }
   ],
   "source": [
    "print(classification_report(Y_test,predlr))\n",
    "print('\\n')\n",
    "print(confusion_matrix(Y_test,predlr))\n",
    "print('\\n')\n",
    "print(f1_score(Y_test,predlr))"
   ]
  },
  {
   "cell_type": "markdown",
   "metadata": {},
   "source": [
    "# Neural Network"
   ]
  },
  {
   "cell_type": "code",
   "execution_count": 119,
   "metadata": {},
   "outputs": [],
   "source": [
    "import sklearn.neural_network"
   ]
  },
  {
   "cell_type": "code",
   "execution_count": 120,
   "metadata": {},
   "outputs": [],
   "source": [
    "from sklearn.neural_network import MLPClassifier"
   ]
  },
  {
   "cell_type": "code",
   "execution_count": 121,
   "metadata": {},
   "outputs": [],
   "source": [
    "clf = MLPClassifier(random_state=1, max_iter=300).fit(X_train, Y_train)"
   ]
  },
  {
   "cell_type": "code",
   "execution_count": 122,
   "metadata": {},
   "outputs": [],
   "source": [
    "prednn=clf.predict(X_test)"
   ]
  },
  {
   "cell_type": "code",
   "execution_count": 123,
   "metadata": {},
   "outputs": [
    {
     "name": "stdout",
     "output_type": "stream",
     "text": [
      "              precision    recall  f1-score   support\n",
      "\n",
      "           0       0.53      0.51      0.52      1362\n",
      "           1       0.60      0.62      0.61      1645\n",
      "\n",
      "    accuracy                           0.57      3007\n",
      "   macro avg       0.57      0.56      0.56      3007\n",
      "weighted avg       0.57      0.57      0.57      3007\n",
      "\n",
      "\n",
      "\n",
      "[[ 693  669]\n",
      " [ 624 1021]]\n"
     ]
    }
   ],
   "source": [
    "print(classification_report(Y_test,prednn))\n",
    "print('\\n')\n",
    "print(confusion_matrix(Y_test,prednn))"
   ]
  },
  {
   "cell_type": "code",
   "execution_count": 124,
   "metadata": {},
   "outputs": [
    {
     "data": {
      "text/plain": [
       "0.6122938530734633"
      ]
     },
     "execution_count": 124,
     "metadata": {},
     "output_type": "execute_result"
    }
   ],
   "source": [
    "f1_score(Y_test,prednn)"
   ]
  }
 ],
 "metadata": {
  "kernelspec": {
   "display_name": "Python 3",
   "language": "python",
   "name": "python3"
  },
  "language_info": {
   "codemirror_mode": {
    "name": "ipython",
    "version": 3
   },
   "file_extension": ".py",
   "mimetype": "text/x-python",
   "name": "python",
   "nbconvert_exporter": "python",
   "pygments_lexer": "ipython3",
   "version": "3.8.5"
  }
 },
 "nbformat": 4,
 "nbformat_minor": 5
}
